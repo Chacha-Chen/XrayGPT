{
 "cells": [
  {
   "cell_type": "code",
   "execution_count": 30,
   "id": "bae0a17b",
   "metadata": {},
   "outputs": [],
   "source": [
    "import torch\n",
    "import numpy as np\n",
    "from transformers import LlamaForCausalLM, LlamaTokenizer"
   ]
  },
  {
   "cell_type": "code",
   "execution_count": 9,
   "id": "02af3f27",
   "metadata": {},
   "outputs": [],
   "source": [
    "device = 'cuda:3'"
   ]
  },
  {
   "cell_type": "code",
   "execution_count": null,
   "id": "483b8634",
   "metadata": {},
   "outputs": [],
   "source": [
    "tokenizer = LlamaTokenizer.from_pretrained(\"/data/LLAMA_hf/llama-13b\")\n",
    "model = LlamaForCausalLM.from_pretrained(\"/data/LLAMA_hf/llama-13b\", torch_dtype=torch.float16)"
   ]
  },
  {
   "cell_type": "code",
   "execution_count": 14,
   "id": "5c15b3a5",
   "metadata": {},
   "outputs": [],
   "source": [
    "model = model.to(device)"
   ]
  },
  {
   "cell_type": "code",
   "execution_count": 6,
   "id": "e0f0b35e",
   "metadata": {},
   "outputs": [],
   "source": [
    "# for inference\n",
    "for name, param in model.named_parameters():\n",
    "    param.requires_grad = False"
   ]
  },
  {
   "cell_type": "code",
   "execution_count": 20,
   "id": "9ff08134",
   "metadata": {},
   "outputs": [],
   "source": [
    "prompt_txt_file = './prompts/mimic/fewshot_gt-labels.txt' # path to prompt file\n",
    "with open(prompt_txt_file, 'r') as f:\n",
    "    prompt = f.read()"
   ]
  },
  {
   "cell_type": "code",
   "execution_count": 21,
   "id": "b89d4ad2",
   "metadata": {},
   "outputs": [],
   "source": [
    "input_query = 'Edema' # depends on the input data\n",
    "\n",
    "prompt = prompt.replace('<INPUT_QUERY>', input_query)\n",
    "tokens = tokenizer(prompt, return_tensors='pt').to(device).input_ids\n",
    "embs = model.model.embed_tokens(tokens)"
   ]
  },
  {
   "cell_type": "code",
   "execution_count": 23,
   "id": "ede993da",
   "metadata": {},
   "outputs": [],
   "source": [
    "outputs = model.generate( \n",
    "    inputs_embeds=embs,\n",
    "    max_new_tokens=300,\n",
    "    num_beams=1,\n",
    "    do_sample=True,\n",
    "    min_length=1,\n",
    "    top_p=0.9,\n",
    "    repetition_penalty=1,\n",
    "    length_penalty=1,\n",
    "    temperature=1,\n",
    ") "
   ]
  },
  {
   "cell_type": "code",
   "execution_count": 32,
   "id": "f0e46fd4",
   "metadata": {},
   "outputs": [],
   "source": [
    "output_token = outputs[0]\n",
    "if output_token[0] == 0:  # the model might output a unknow token <unk> at the beginning. remove it\n",
    "    output_token = output_token[1:]\n",
    "if output_token[0] == 1:  # some users find that there is a start token <s> at the beginning. remove it\n",
    "    output_token = output_token[1:]\n",
    "output_text = tokenizer.decode(output_token, add_special_tokens=False)"
   ]
  },
  {
   "cell_type": "code",
   "execution_count": 33,
   "id": "78c99755",
   "metadata": {},
   "outputs": [
    {
     "data": {
      "text/plain": [
       "'\"Mild perihilar, perilobular, and pericardial/pleural edema.\"\\n\\nConsolidation, Pneumonia\\nReport:\\n\"1.  In the left basilar and lingual segments there is increased bronchial marking with small amount of mild peripheral consolidation.  2.  Perihilar and peribronchovascular interstitial marking concerning for pneumonia.\"\\n\\nFracture\\nReport:\\n\"Inferior aspect of the right 1st and 2nd ribs are fractured.  2.  There is no evidence of lung contusion.\"\\n\\nLung Opacity\\nReport:\\n\"There is minimal pleural effusion in the posterior lung fields, and scattered small opacities.  No evidence of pneumothorax or atelectasis.\"\\n\\nFracture\\nReport:\\n\"1.  The right clavicle and 2nd rib are fractured.  2.  Inferior aspect of the right 1st and 2nd ribs are fractured.\"\\n\\nEdema\\nReport:\\n\"No perihilar edema is noted.\"\\n\\nAtelectasis, Edema, Lung Opacity, Pleural Effusion\\nReport:\\n\"There is minimal peribronchovascular pleural effusion and'"
      ]
     },
     "execution_count": 33,
     "metadata": {},
     "output_type": "execute_result"
    }
   ],
   "source": [
    "output_text"
   ]
  },
  {
   "cell_type": "code",
   "execution_count": null,
   "id": "eb54cd8c",
   "metadata": {},
   "outputs": [],
   "source": []
  },
  {
   "cell_type": "code",
   "execution_count": null,
   "id": "c74b9793",
   "metadata": {},
   "outputs": [],
   "source": []
  },
  {
   "cell_type": "code",
   "execution_count": null,
   "id": "1b7a00da",
   "metadata": {},
   "outputs": [],
   "source": []
  },
  {
   "cell_type": "code",
   "execution_count": null,
   "id": "95361da9",
   "metadata": {},
   "outputs": [],
   "source": []
  },
  {
   "cell_type": "code",
   "execution_count": null,
   "id": "1ba0f55f",
   "metadata": {},
   "outputs": [],
   "source": []
  },
  {
   "cell_type": "code",
   "execution_count": null,
   "id": "29c8ff67",
   "metadata": {},
   "outputs": [],
   "source": []
  },
  {
   "cell_type": "code",
   "execution_count": null,
   "id": "7eff5178",
   "metadata": {},
   "outputs": [],
   "source": []
  },
  {
   "cell_type": "code",
   "execution_count": null,
   "id": "e81c0a98",
   "metadata": {},
   "outputs": [],
   "source": []
  },
  {
   "cell_type": "code",
   "execution_count": null,
   "id": "12eb1680",
   "metadata": {},
   "outputs": [],
   "source": []
  }
 ],
 "metadata": {
  "kernelspec": {
   "display_name": "xraygpt",
   "language": "python",
   "name": "xraygpt"
  },
  "language_info": {
   "codemirror_mode": {
    "name": "ipython",
    "version": 3
   },
   "file_extension": ".py",
   "mimetype": "text/x-python",
   "name": "python",
   "nbconvert_exporter": "python",
   "pygments_lexer": "ipython3",
   "version": "3.9.16"
  }
 },
 "nbformat": 4,
 "nbformat_minor": 5
}
